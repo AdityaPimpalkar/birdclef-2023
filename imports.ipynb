{
 "cells": [
  {
   "cell_type": "code",
   "execution_count": 1,
   "id": "a518d698",
   "metadata": {
    "_cell_guid": "b1076dfc-b9ad-4769-8c92-a6c4dae69d19",
    "_uuid": "8f2839f25d086af736a60e9eeb907d3b93b6e0e5",
    "execution": {
     "iopub.execute_input": "2023-05-17T22:28:28.736428Z",
     "iopub.status.busy": "2023-05-17T22:28:28.736078Z",
     "iopub.status.idle": "2023-05-17T22:28:28.746091Z",
     "shell.execute_reply": "2023-05-17T22:28:28.744741Z"
    },
    "papermill": {
     "duration": 0.016824,
     "end_time": "2023-05-17T22:28:28.748275",
     "exception": false,
     "start_time": "2023-05-17T22:28:28.731451",
     "status": "completed"
    },
    "tags": []
   },
   "outputs": [],
   "source": [
    "# This Python 3 environment comes with many helpful analytics libraries installed\n",
    "# It is defined by the kaggle/python Docker image: https://github.com/kaggle/docker-python\n",
    "# For example, here's several helpful packages to load\n",
    "\n",
    "import numpy as np # linear algebra\n",
    "import pandas as pd # data processing, CSV file I/O (e.g. pd.read_csv)\n",
    "\n",
    "# Input data files are available in the read-only \"../input/\" directory\n",
    "# For example, running this (by clicking run or pressing Shift+Enter) will list all files under the input directory\n",
    "\n",
    "path = '/kaggle/input'\n",
    "\n",
    "# You can write up to 20GB to the current directory (/kaggle/working/) that gets preserved as output when you create a version using \"Save & Run All\" \n",
    "# You can also write temporary files to /kaggle/temp/, but they won't be saved outside of the current session"
   ]
  },
  {
   "cell_type": "code",
   "execution_count": 2,
   "id": "650c75ba",
   "metadata": {
    "execution": {
     "iopub.execute_input": "2023-05-17T22:28:28.754836Z",
     "iopub.status.busy": "2023-05-17T22:28:28.754535Z",
     "iopub.status.idle": "2023-05-17T22:28:28.878936Z",
     "shell.execute_reply": "2023-05-17T22:28:28.877571Z"
    },
    "papermill": {
     "duration": 0.129961,
     "end_time": "2023-05-17T22:28:28.881012",
     "exception": false,
     "start_time": "2023-05-17T22:28:28.751051",
     "status": "completed"
    },
    "tags": []
   },
   "outputs": [],
   "source": [
    "\n",
    "metadata = pd.read_csv(path + '/birdclef-2023/train_metadata.csv')"
   ]
  },
  {
   "cell_type": "code",
   "execution_count": 3,
   "id": "671c44b6",
   "metadata": {
    "execution": {
     "iopub.execute_input": "2023-05-17T22:28:28.888010Z",
     "iopub.status.busy": "2023-05-17T22:28:28.887144Z",
     "iopub.status.idle": "2023-05-17T22:28:28.926735Z",
     "shell.execute_reply": "2023-05-17T22:28:28.925846Z"
    },
    "papermill": {
     "duration": 0.045613,
     "end_time": "2023-05-17T22:28:28.929204",
     "exception": false,
     "start_time": "2023-05-17T22:28:28.883591",
     "status": "completed"
    },
    "tags": []
   },
   "outputs": [
    {
     "data": {
      "text/html": [
       "<div>\n",
       "<style scoped>\n",
       "    .dataframe tbody tr th:only-of-type {\n",
       "        vertical-align: middle;\n",
       "    }\n",
       "\n",
       "    .dataframe tbody tr th {\n",
       "        vertical-align: top;\n",
       "    }\n",
       "\n",
       "    .dataframe thead th {\n",
       "        text-align: right;\n",
       "    }\n",
       "</style>\n",
       "<table border=\"1\" class=\"dataframe\">\n",
       "  <thead>\n",
       "    <tr style=\"text-align: right;\">\n",
       "      <th></th>\n",
       "      <th>primary_label</th>\n",
       "      <th>secondary_labels</th>\n",
       "      <th>type</th>\n",
       "      <th>latitude</th>\n",
       "      <th>longitude</th>\n",
       "      <th>scientific_name</th>\n",
       "      <th>common_name</th>\n",
       "      <th>author</th>\n",
       "      <th>license</th>\n",
       "      <th>rating</th>\n",
       "      <th>url</th>\n",
       "      <th>filename</th>\n",
       "    </tr>\n",
       "  </thead>\n",
       "  <tbody>\n",
       "    <tr>\n",
       "      <th>0</th>\n",
       "      <td>abethr1</td>\n",
       "      <td>[]</td>\n",
       "      <td>['song']</td>\n",
       "      <td>4.3906</td>\n",
       "      <td>38.2788</td>\n",
       "      <td>Turdus tephronotus</td>\n",
       "      <td>African Bare-eyed Thrush</td>\n",
       "      <td>Rolf A. de By</td>\n",
       "      <td>Creative Commons Attribution-NonCommercial-Sha...</td>\n",
       "      <td>4.0</td>\n",
       "      <td>https://www.xeno-canto.org/128013</td>\n",
       "      <td>abethr1/XC128013.ogg</td>\n",
       "    </tr>\n",
       "    <tr>\n",
       "      <th>1</th>\n",
       "      <td>abethr1</td>\n",
       "      <td>[]</td>\n",
       "      <td>['call']</td>\n",
       "      <td>-2.9524</td>\n",
       "      <td>38.2921</td>\n",
       "      <td>Turdus tephronotus</td>\n",
       "      <td>African Bare-eyed Thrush</td>\n",
       "      <td>James Bradley</td>\n",
       "      <td>Creative Commons Attribution-NonCommercial-Sha...</td>\n",
       "      <td>3.5</td>\n",
       "      <td>https://www.xeno-canto.org/363501</td>\n",
       "      <td>abethr1/XC363501.ogg</td>\n",
       "    </tr>\n",
       "    <tr>\n",
       "      <th>2</th>\n",
       "      <td>abethr1</td>\n",
       "      <td>[]</td>\n",
       "      <td>['song']</td>\n",
       "      <td>-2.9524</td>\n",
       "      <td>38.2921</td>\n",
       "      <td>Turdus tephronotus</td>\n",
       "      <td>African Bare-eyed Thrush</td>\n",
       "      <td>James Bradley</td>\n",
       "      <td>Creative Commons Attribution-NonCommercial-Sha...</td>\n",
       "      <td>3.5</td>\n",
       "      <td>https://www.xeno-canto.org/363502</td>\n",
       "      <td>abethr1/XC363502.ogg</td>\n",
       "    </tr>\n",
       "    <tr>\n",
       "      <th>3</th>\n",
       "      <td>abethr1</td>\n",
       "      <td>[]</td>\n",
       "      <td>['song']</td>\n",
       "      <td>-2.9524</td>\n",
       "      <td>38.2921</td>\n",
       "      <td>Turdus tephronotus</td>\n",
       "      <td>African Bare-eyed Thrush</td>\n",
       "      <td>James Bradley</td>\n",
       "      <td>Creative Commons Attribution-NonCommercial-Sha...</td>\n",
       "      <td>5.0</td>\n",
       "      <td>https://www.xeno-canto.org/363503</td>\n",
       "      <td>abethr1/XC363503.ogg</td>\n",
       "    </tr>\n",
       "    <tr>\n",
       "      <th>4</th>\n",
       "      <td>abethr1</td>\n",
       "      <td>[]</td>\n",
       "      <td>['call', 'song']</td>\n",
       "      <td>-2.9524</td>\n",
       "      <td>38.2921</td>\n",
       "      <td>Turdus tephronotus</td>\n",
       "      <td>African Bare-eyed Thrush</td>\n",
       "      <td>James Bradley</td>\n",
       "      <td>Creative Commons Attribution-NonCommercial-Sha...</td>\n",
       "      <td>4.5</td>\n",
       "      <td>https://www.xeno-canto.org/363504</td>\n",
       "      <td>abethr1/XC363504.ogg</td>\n",
       "    </tr>\n",
       "    <tr>\n",
       "      <th>...</th>\n",
       "      <td>...</td>\n",
       "      <td>...</td>\n",
       "      <td>...</td>\n",
       "      <td>...</td>\n",
       "      <td>...</td>\n",
       "      <td>...</td>\n",
       "      <td>...</td>\n",
       "      <td>...</td>\n",
       "      <td>...</td>\n",
       "      <td>...</td>\n",
       "      <td>...</td>\n",
       "      <td>...</td>\n",
       "    </tr>\n",
       "    <tr>\n",
       "      <th>16936</th>\n",
       "      <td>yewgre1</td>\n",
       "      <td>[]</td>\n",
       "      <td>['']</td>\n",
       "      <td>-1.2502</td>\n",
       "      <td>29.7971</td>\n",
       "      <td>Eurillas latirostris</td>\n",
       "      <td>Yellow-whiskered Greenbul</td>\n",
       "      <td>András Schmidt</td>\n",
       "      <td>Creative Commons Attribution-NonCommercial-Sha...</td>\n",
       "      <td>3.0</td>\n",
       "      <td>https://xeno-canto.org/703472</td>\n",
       "      <td>yewgre1/XC703472.ogg</td>\n",
       "    </tr>\n",
       "    <tr>\n",
       "      <th>16937</th>\n",
       "      <td>yewgre1</td>\n",
       "      <td>[]</td>\n",
       "      <td>['']</td>\n",
       "      <td>-1.2489</td>\n",
       "      <td>29.7923</td>\n",
       "      <td>Eurillas latirostris</td>\n",
       "      <td>Yellow-whiskered Greenbul</td>\n",
       "      <td>András Schmidt</td>\n",
       "      <td>Creative Commons Attribution-NonCommercial-Sha...</td>\n",
       "      <td>4.0</td>\n",
       "      <td>https://xeno-canto.org/703485</td>\n",
       "      <td>yewgre1/XC703485.ogg</td>\n",
       "    </tr>\n",
       "    <tr>\n",
       "      <th>16938</th>\n",
       "      <td>yewgre1</td>\n",
       "      <td>[]</td>\n",
       "      <td>['']</td>\n",
       "      <td>-1.2433</td>\n",
       "      <td>29.7844</td>\n",
       "      <td>Eurillas latirostris</td>\n",
       "      <td>Yellow-whiskered Greenbul</td>\n",
       "      <td>András Schmidt</td>\n",
       "      <td>Creative Commons Attribution-NonCommercial-Sha...</td>\n",
       "      <td>4.0</td>\n",
       "      <td>https://xeno-canto.org/704433</td>\n",
       "      <td>yewgre1/XC704433.ogg</td>\n",
       "    </tr>\n",
       "    <tr>\n",
       "      <th>16939</th>\n",
       "      <td>yewgre1</td>\n",
       "      <td>[]</td>\n",
       "      <td>['']</td>\n",
       "      <td>0.0452</td>\n",
       "      <td>36.3699</td>\n",
       "      <td>Eurillas latirostris</td>\n",
       "      <td>Yellow-whiskered Greenbul</td>\n",
       "      <td>Lars Lachmann</td>\n",
       "      <td>Creative Commons Attribution-NonCommercial-Sha...</td>\n",
       "      <td>4.0</td>\n",
       "      <td>https://xeno-canto.org/752974</td>\n",
       "      <td>yewgre1/XC752974.ogg</td>\n",
       "    </tr>\n",
       "    <tr>\n",
       "      <th>16940</th>\n",
       "      <td>yewgre1</td>\n",
       "      <td>[]</td>\n",
       "      <td>['']</td>\n",
       "      <td>-0.3986</td>\n",
       "      <td>37.3087</td>\n",
       "      <td>Eurillas latirostris</td>\n",
       "      <td>Yellow-whiskered Greenbul</td>\n",
       "      <td>Lars Lachmann</td>\n",
       "      <td>Creative Commons Attribution-NonCommercial-Sha...</td>\n",
       "      <td>4.5</td>\n",
       "      <td>https://xeno-canto.org/753190</td>\n",
       "      <td>yewgre1/XC753190.ogg</td>\n",
       "    </tr>\n",
       "  </tbody>\n",
       "</table>\n",
       "<p>16941 rows × 12 columns</p>\n",
       "</div>"
      ],
      "text/plain": [
       "      primary_label secondary_labels              type  latitude  longitude  \\\n",
       "0           abethr1               []          ['song']    4.3906    38.2788   \n",
       "1           abethr1               []          ['call']   -2.9524    38.2921   \n",
       "2           abethr1               []          ['song']   -2.9524    38.2921   \n",
       "3           abethr1               []          ['song']   -2.9524    38.2921   \n",
       "4           abethr1               []  ['call', 'song']   -2.9524    38.2921   \n",
       "...             ...              ...               ...       ...        ...   \n",
       "16936       yewgre1               []              ['']   -1.2502    29.7971   \n",
       "16937       yewgre1               []              ['']   -1.2489    29.7923   \n",
       "16938       yewgre1               []              ['']   -1.2433    29.7844   \n",
       "16939       yewgre1               []              ['']    0.0452    36.3699   \n",
       "16940       yewgre1               []              ['']   -0.3986    37.3087   \n",
       "\n",
       "            scientific_name                common_name          author  \\\n",
       "0        Turdus tephronotus   African Bare-eyed Thrush   Rolf A. de By   \n",
       "1        Turdus tephronotus   African Bare-eyed Thrush   James Bradley   \n",
       "2        Turdus tephronotus   African Bare-eyed Thrush   James Bradley   \n",
       "3        Turdus tephronotus   African Bare-eyed Thrush   James Bradley   \n",
       "4        Turdus tephronotus   African Bare-eyed Thrush   James Bradley   \n",
       "...                     ...                        ...             ...   \n",
       "16936  Eurillas latirostris  Yellow-whiskered Greenbul  András Schmidt   \n",
       "16937  Eurillas latirostris  Yellow-whiskered Greenbul  András Schmidt   \n",
       "16938  Eurillas latirostris  Yellow-whiskered Greenbul  András Schmidt   \n",
       "16939  Eurillas latirostris  Yellow-whiskered Greenbul   Lars Lachmann   \n",
       "16940  Eurillas latirostris  Yellow-whiskered Greenbul   Lars Lachmann   \n",
       "\n",
       "                                                 license  rating  \\\n",
       "0      Creative Commons Attribution-NonCommercial-Sha...     4.0   \n",
       "1      Creative Commons Attribution-NonCommercial-Sha...     3.5   \n",
       "2      Creative Commons Attribution-NonCommercial-Sha...     3.5   \n",
       "3      Creative Commons Attribution-NonCommercial-Sha...     5.0   \n",
       "4      Creative Commons Attribution-NonCommercial-Sha...     4.5   \n",
       "...                                                  ...     ...   \n",
       "16936  Creative Commons Attribution-NonCommercial-Sha...     3.0   \n",
       "16937  Creative Commons Attribution-NonCommercial-Sha...     4.0   \n",
       "16938  Creative Commons Attribution-NonCommercial-Sha...     4.0   \n",
       "16939  Creative Commons Attribution-NonCommercial-Sha...     4.0   \n",
       "16940  Creative Commons Attribution-NonCommercial-Sha...     4.5   \n",
       "\n",
       "                                     url              filename  \n",
       "0      https://www.xeno-canto.org/128013  abethr1/XC128013.ogg  \n",
       "1      https://www.xeno-canto.org/363501  abethr1/XC363501.ogg  \n",
       "2      https://www.xeno-canto.org/363502  abethr1/XC363502.ogg  \n",
       "3      https://www.xeno-canto.org/363503  abethr1/XC363503.ogg  \n",
       "4      https://www.xeno-canto.org/363504  abethr1/XC363504.ogg  \n",
       "...                                  ...                   ...  \n",
       "16936      https://xeno-canto.org/703472  yewgre1/XC703472.ogg  \n",
       "16937      https://xeno-canto.org/703485  yewgre1/XC703485.ogg  \n",
       "16938      https://xeno-canto.org/704433  yewgre1/XC704433.ogg  \n",
       "16939      https://xeno-canto.org/752974  yewgre1/XC752974.ogg  \n",
       "16940      https://xeno-canto.org/753190  yewgre1/XC753190.ogg  \n",
       "\n",
       "[16941 rows x 12 columns]"
      ]
     },
     "execution_count": 3,
     "metadata": {},
     "output_type": "execute_result"
    }
   ],
   "source": [
    "metadata"
   ]
  },
  {
   "cell_type": "code",
   "execution_count": 4,
   "id": "315c3e2f",
   "metadata": {
    "execution": {
     "iopub.execute_input": "2023-05-17T22:28:28.937515Z",
     "iopub.status.busy": "2023-05-17T22:28:28.936435Z",
     "iopub.status.idle": "2023-05-17T22:28:37.301668Z",
     "shell.execute_reply": "2023-05-17T22:28:37.300948Z"
    },
    "papermill": {
     "duration": 8.371635,
     "end_time": "2023-05-17T22:28:37.303928",
     "exception": false,
     "start_time": "2023-05-17T22:28:28.932293",
     "status": "completed"
    },
    "tags": []
   },
   "outputs": [
    {
     "name": "stderr",
     "output_type": "stream",
     "text": [
      "/opt/conda/lib/python3.10/site-packages/scipy/__init__.py:146: UserWarning: A NumPy version >=1.16.5 and <1.23.0 is required for this version of SciPy (detected version 1.23.5\n",
      "  warnings.warn(f\"A NumPy version >={np_minversion} and <{np_maxversion}\"\n"
     ]
    }
   ],
   "source": [
    "import tensorflow as tf"
   ]
  },
  {
   "cell_type": "code",
   "execution_count": 5,
   "id": "8e504963",
   "metadata": {
    "execution": {
     "iopub.execute_input": "2023-05-17T22:28:37.312926Z",
     "iopub.status.busy": "2023-05-17T22:28:37.311457Z",
     "iopub.status.idle": "2023-05-17T22:31:04.621634Z",
     "shell.execute_reply": "2023-05-17T22:31:04.619775Z"
    },
    "papermill": {
     "duration": 147.317253,
     "end_time": "2023-05-17T22:31:04.624472",
     "exception": false,
     "start_time": "2023-05-17T22:28:37.307219",
     "status": "completed"
    },
    "tags": []
   },
   "outputs": [],
   "source": [
    "audios = []\n",
    "labels = []\n",
    "\n",
    "for index, row in metadata.iterrows():\n",
    "    audio_binary = tf.io.read_file(path + \"/birdclef-2023/train_audio/\" + row['filename'])\n",
    "    audios.append(audio_binary)\n",
    "    labels.append(row['primary_label'])\n",
    "    \n",
    "   "
   ]
  },
  {
   "cell_type": "code",
   "execution_count": 6,
   "id": "fa59f046",
   "metadata": {
    "execution": {
     "iopub.execute_input": "2023-05-17T22:31:04.633124Z",
     "iopub.status.busy": "2023-05-17T22:31:04.632749Z",
     "iopub.status.idle": "2023-05-17T22:31:04.638987Z",
     "shell.execute_reply": "2023-05-17T22:31:04.637718Z"
    },
    "papermill": {
     "duration": 0.013735,
     "end_time": "2023-05-17T22:31:04.641579",
     "exception": false,
     "start_time": "2023-05-17T22:31:04.627844",
     "status": "completed"
    },
    "tags": []
   },
   "outputs": [
    {
     "name": "stdout",
     "output_type": "stream",
     "text": [
      "16941\n",
      "16941\n"
     ]
    }
   ],
   "source": [
    "print(len(audios)) \n",
    "print(len(labels)) "
   ]
  },
  {
   "cell_type": "code",
   "execution_count": 7,
   "id": "b5a32188",
   "metadata": {
    "execution": {
     "iopub.execute_input": "2023-05-17T22:31:04.650897Z",
     "iopub.status.busy": "2023-05-17T22:31:04.649561Z",
     "iopub.status.idle": "2023-05-17T22:31:08.602773Z",
     "shell.execute_reply": "2023-05-17T22:31:08.601809Z"
    },
    "papermill": {
     "duration": 3.96013,
     "end_time": "2023-05-17T22:31:08.605054",
     "exception": false,
     "start_time": "2023-05-17T22:31:04.644924",
     "status": "completed"
    },
    "tags": []
   },
   "outputs": [],
   "source": [
    "dataset = tf.data.Dataset.from_tensor_slices((audios,labels))"
   ]
  },
  {
   "cell_type": "code",
   "execution_count": 8,
   "id": "d02644ce",
   "metadata": {
    "execution": {
     "iopub.execute_input": "2023-05-17T22:31:08.612781Z",
     "iopub.status.busy": "2023-05-17T22:31:08.612415Z",
     "iopub.status.idle": "2023-05-17T22:31:09.551131Z",
     "shell.execute_reply": "2023-05-17T22:31:09.550156Z"
    },
    "papermill": {
     "duration": 0.945276,
     "end_time": "2023-05-17T22:31:09.553570",
     "exception": false,
     "start_time": "2023-05-17T22:31:08.608294",
     "status": "completed"
    },
    "tags": []
   },
   "outputs": [],
   "source": [
    "dataset_size = dataset.reduce(0, lambda x, _: x + 1).numpy()\n",
    "\n",
    "\n",
    "train_size = int(0.7 * dataset_size)  # 70% for training\n",
    "test_size = int(0.15 * dataset_size)  # 15% for testing\n",
    "val_size = dataset_size - train_size - test_size  # Remaining for validation\n",
    "\n",
    "# Shuffle the dataset\n",
    "dataset = dataset.shuffle(dataset_size)\n",
    "\n",
    "# Split the dataset into training, test, and validation sets\n",
    "train_dataset = dataset.take(train_size)\n",
    "test_dataset = dataset.skip(train_size).take(test_size)\n",
    "val_dataset = dataset.skip(train_size + test_size).take(val_size)"
   ]
  },
  {
   "cell_type": "code",
   "execution_count": null,
   "id": "31847514",
   "metadata": {
    "papermill": {
     "duration": 0.002837,
     "end_time": "2023-05-17T22:31:09.559772",
     "exception": false,
     "start_time": "2023-05-17T22:31:09.556935",
     "status": "completed"
    },
    "tags": []
   },
   "outputs": [],
   "source": []
  }
 ],
 "metadata": {
  "kernelspec": {
   "display_name": "Python 3",
   "language": "python",
   "name": "python3"
  },
  "language_info": {
   "codemirror_mode": {
    "name": "ipython",
    "version": 3
   },
   "file_extension": ".py",
   "mimetype": "text/x-python",
   "name": "python",
   "nbconvert_exporter": "python",
   "pygments_lexer": "ipython3",
   "version": "3.10.10"
  },
  "papermill": {
   "default_parameters": {},
   "duration": 173.436851,
   "end_time": "2023-05-17T22:31:12.898040",
   "environment_variables": {},
   "exception": null,
   "input_path": "__notebook__.ipynb",
   "output_path": "__notebook__.ipynb",
   "parameters": {},
   "start_time": "2023-05-17T22:28:19.461189",
   "version": "2.4.0"
  }
 },
 "nbformat": 4,
 "nbformat_minor": 5
}
